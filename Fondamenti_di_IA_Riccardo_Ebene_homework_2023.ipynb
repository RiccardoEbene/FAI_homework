{
  "cells": [
    {
      "cell_type": "markdown",
      "metadata": {
        "id": "TspH1wJmAkdk"
      },
      "source": [
        "### For the homeworks we are going to use the \"[Online News Popularity Data Set](https://archive.ics.uci.edu/ml/datasets/Online+News+Popularity#)\"\n",
        "\n",
        "The dataset can be used both for regression and classification tasks.\n",
        "\n",
        "#### Source:\n",
        "\n",
        "Kelwin Fernandes INESC TEC, Porto, Portugal/Universidade do Porto, Portugal.\n",
        "Pedro Vinagre ALGORITMI Research Centre, Universidade do Minho, Portugal\n",
        "Paulo Cortez ALGORITMI Research Centre, Universidade do Minho, Portugal\n",
        "Pedro Sernadela Universidade de Aveiro\n",
        "\n",
        "#### Data Set Information:\n",
        "\n",
        "* The articles were published by Mashable (www.mashable.com) and their content as the rights to reproduce it belongs to them. Hence, this dataset does not share the original content but some statistics associated with it. The original content be publicly accessed and retrieved using the provided urls.\n",
        "* Acquisition date: January 8, 2015\n",
        "* The estimated relative performance values were estimated by the authors using a Random Forest classifier and a rolling windows as assessment method. See their article for more details on how the relative performance values were set.\n",
        "\n",
        "Attribute Information:\n",
        "\n",
        "Number of Attributes: 61 (58 predictive attributes, 2 non-predictive, 1 goal field)\n",
        "\n",
        "Attribute Information:\n",
        "0. url: URL of the article (non-predictive)\n",
        "1. timedelta: Days between the article publication and the dataset acquisition (non-predictive)\n",
        "2. n_tokens_title: Number of words in the title\n",
        "3. n_tokens_content: Number of words in the content\n",
        "4. n_unique_tokens: Rate of unique words in the content\n",
        "5. n_non_stop_words: Rate of non-stop words in the content\n",
        "6. n_non_stop_unique_tokens: Rate of unique non-stop words in the content\n",
        "7. num_hrefs: Number of links\n",
        "8. num_self_hrefs: Number of links to other articles published by Mashable\n",
        "9. num_imgs: Number of images\n",
        "10. num_videos: Number of videos\n",
        "11. average_token_length: Average length of the words in the content\n",
        "12. num_keywords: Number of keywords in the metadata\n",
        "13. data_channel_is_lifestyle: Is data channel 'Lifestyle'?\n",
        "14. data_channel_is_entertainment: Is data channel 'Entertainment'?\n",
        "15. data_channel_is_bus: Is data channel 'Business'?\n",
        "16. data_channel_is_socmed: Is data channel 'Social Media'?\n",
        "17. data_channel_is_tech: Is data channel 'Tech'?\n",
        "18. data_channel_is_world: Is data channel 'World'?\n",
        "19. kw_min_min: Worst keyword (min. shares)\n",
        "20. kw_max_min: Worst keyword (max. shares)\n",
        "21. kw_avg_min: Worst keyword (avg. shares)\n",
        "22. kw_min_max: Best keyword (min. shares)\n",
        "23. kw_max_max: Best keyword (max. shares)\n",
        "24. kw_avg_max: Best keyword (avg. shares)\n",
        "25. kw_min_avg: Avg. keyword (min. shares)\n",
        "26. kw_max_avg: Avg. keyword (max. shares)\n",
        "27. kw_avg_avg: Avg. keyword (avg. shares)\n",
        "28. self_reference_min_shares: Min. shares of referenced articles in Mashable\n",
        "29. self_reference_max_shares: Max. shares of referenced articles in Mashable\n",
        "30. self_reference_avg_sharess: Avg. shares of referenced articles in Mashable\n",
        "31. weekday_is_monday: Was the article published on a Monday?\n",
        "32. weekday_is_tuesday: Was the article published on a Tuesday?\n",
        "33. weekday_is_wednesday: Was the article published on a Wednesday?\n",
        "34. weekday_is_thursday: Was the article published on a Thursday?\n",
        "35. weekday_is_friday: Was the article published on a Friday?\n",
        "36. weekday_is_saturday: Was the article published on a Saturday?\n",
        "37. weekday_is_sunday: Was the article published on a Sunday?\n",
        "38. is_weekend: Was the article published on the weekend?\n",
        "39. LDA_00: Closeness to LDA topic 0\n",
        "40. LDA_01: Closeness to LDA topic 1\n",
        "41. LDA_02: Closeness to LDA topic 2\n",
        "42. LDA_03: Closeness to LDA topic 3\n",
        "43. LDA_04: Closeness to LDA topic 4\n",
        "44. global_subjectivity: Text subjectivity\n",
        "45. global_sentiment_polarity: Text sentiment polarity\n",
        "46. global_rate_positive_words: Rate of positive words in the content\n",
        "47. global_rate_negative_words: Rate of negative words in the content\n",
        "48. rate_positive_words: Rate of positive words among non-neutral tokens\n",
        "49. rate_negative_words: Rate of negative words among non-neutral tokens\n",
        "50. avg_positive_polarity: Avg. polarity of positive words\n",
        "51. min_positive_polarity: Min. polarity of positive words\n",
        "52. max_positive_polarity: Max. polarity of positive words\n",
        "53. avg_negative_polarity: Avg. polarity of negative words\n",
        "54. min_negative_polarity: Min. polarity of negative words\n",
        "55. max_negative_polarity: Max. polarity of negative words\n",
        "56. title_subjectivity: Title subjectivity\n",
        "57. title_sentiment_polarity: Title polarity\n",
        "58. abs_title_subjectivity: Absolute subjectivity level\n",
        "59. abs_title_sentiment_polarity: Absolute polarity level\n",
        "60. shares: Number of shares (target)\n",
        "\n",
        "\n",
        "The first two columns (url and time_delta) are non-predictive and should be ignored\n",
        "\n",
        "The last column **shares** contains the value to predict.\n",
        "\n",
        "### Regression\n",
        "In the case of regression we want to predict the value of the share column.\n",
        "\n",
        "### Classification\n",
        "In the case of classification we want to predict one of two classes:\n",
        "\n",
        "* *low* -- shares < 1,400\n",
        "* *high* -- shares >= 1,400\n",
        "\n",
        "### Metrics\n",
        "\n",
        "#### Regression\n",
        "To evaluate how good we are doing on the **regression** task we will use the Root Mean Squared Error (RMSE). RMSE is given by\n",
        "\n",
        "$$\n",
        "\\sqrt{\\frac{1}{n}\\sum\\limits_{i=1}^{n}{\\Big(d_i -f_i\\Big)^2}}\n",
        "$$\n",
        "\n",
        "\n",
        "where:\n",
        "\n",
        "* $n$ is the number of test samples\n",
        "* $d_i$ is the ground truth value of the i-th sample\n",
        "* $f_i$ is the predicted value of the i-th sample\n",
        "\n",
        "\n",
        "#### Classification\n",
        "To evaluate how good we are doing on the **classification** task we will use the accuracy metrics. Accuracy is given by\n",
        "\n",
        "$$\n",
        "\\frac{TP+TN}{TP+TN+FP+FN}\n",
        "$$\n",
        "\n",
        "where:\n",
        "\n",
        "* TP is the number of *correctly* classified positive samples\n",
        "* TN is the number of *correctly* classified negative samples\n",
        "* FP is the number of *incorrectly* classified positive samples\n",
        "* FN is the number of *incorrectly* classified negative samples"
      ]
    },
    {
      "cell_type": "code",
      "execution_count": null,
      "metadata": {
        "colab": {
          "base_uri": "https://localhost:8080/"
        },
        "id": "oesd6_bYijRo",
        "outputId": "97ab50f4-5677-4be5-cd74-c28de116a881"
      },
      "outputs": [
        {
          "output_type": "stream",
          "name": "stdout",
          "text": [
            "--2023-12-01 15:57:39--  https://archive.ics.uci.edu/ml/machine-learning-databases/00332/OnlineNewsPopularity.zip\n",
            "Resolving archive.ics.uci.edu (archive.ics.uci.edu)... 128.195.10.252\n",
            "Connecting to archive.ics.uci.edu (archive.ics.uci.edu)|128.195.10.252|:443... connected.\n",
            "HTTP request sent, awaiting response... 200 OK\n",
            "Length: unspecified\n",
            "Saving to: ‘OnlineNewsPopularity.zip’\n",
            "\n",
            "\rOnlineNewsPopularit     [<=>                 ]       0  --.-KB/s               \rOnlineNewsPopularit     [ <=>                ]   7.13M  --.-KB/s    in 0.1s    \n",
            "\n",
            "2023-12-01 15:57:39 (58.1 MB/s) - ‘OnlineNewsPopularity.zip’ saved [7476401]\n",
            "\n"
          ]
        }
      ],
      "source": [
        "!wget https://archive.ics.uci.edu/ml/machine-learning-databases/00332/OnlineNewsPopularity.zip"
      ]
    },
    {
      "cell_type": "code",
      "execution_count": null,
      "metadata": {
        "colab": {
          "base_uri": "https://localhost:8080/"
        },
        "id": "gmad6QdZ_nFR",
        "outputId": "391b514d-b34a-48b1-da61-29ea74229349"
      },
      "outputs": [
        {
          "output_type": "stream",
          "name": "stdout",
          "text": [
            "Archive:  OnlineNewsPopularity.zip\n",
            "   creating: OnlineNewsPopularity/\n",
            "  inflating: OnlineNewsPopularity/OnlineNewsPopularity.names  \n",
            "  inflating: OnlineNewsPopularity/OnlineNewsPopularity.csv  \n"
          ]
        }
      ],
      "source": [
        "!unzip OnlineNewsPopularity.zip"
      ]
    },
    {
      "cell_type": "markdown",
      "metadata": {
        "id": "S9Nf8beA42wT"
      },
      "source": [
        "##Preparazione dataset"
      ]
    },
    {
      "cell_type": "code",
      "execution_count": null,
      "metadata": {
        "id": "8eW4t_c6ACcm"
      },
      "outputs": [],
      "source": [
        "import pandas as pd"
      ]
    },
    {
      "cell_type": "markdown",
      "metadata": {
        "id": "yXCX_LpFedtj"
      },
      "source": [
        "Format properly the names of the columns and remove the first two columns"
      ]
    },
    {
      "cell_type": "code",
      "execution_count": null,
      "metadata": {
        "id": "1mxntjhmAH0D"
      },
      "outputs": [],
      "source": [
        "df = pd.read_csv('OnlineNewsPopularity/OnlineNewsPopularity.csv')\n",
        "df = df.rename(columns=lambda x: x.strip())\n",
        "df = df.iloc[: , 2:]"
      ]
    },
    {
      "cell_type": "code",
      "execution_count": null,
      "metadata": {
        "id": "vOdgzs_5OIU8"
      },
      "outputs": [],
      "source": [
        "from sklearn.metrics import mean_squared_error\n",
        "from sklearn.metrics import accuracy_score\n",
        "from sklearn.metrics import f1_score\n",
        "from sklearn.metrics import mean_absolute_error\n",
        "import math\n",
        "import numpy as np\n",
        "import matplotlib.pyplot as plt\n",
        "import statistics"
      ]
    },
    {
      "cell_type": "markdown",
      "metadata": {
        "id": "STdol5Lu49D-"
      },
      "source": [
        "Divido il dataset in **training set**, con cui effettuerò il training dei modelli, **validation set**, per effettuare il *tuning* degli iperparametri, e **test set**, per testare i modelli scelti."
      ]
    },
    {
      "cell_type": "code",
      "execution_count": null,
      "metadata": {
        "id": "2ODJ9Rr4SoFn"
      },
      "outputs": [],
      "source": [
        "from sklearn.model_selection import train_test_split\n",
        "\n",
        "df_b = df.copy()\n",
        "df_b.insert(58, \"bias\", 1)\n",
        "\n",
        "y = df_b.shares\n",
        "x = df_b.iloc[:, :59]\n",
        "\n",
        "x_train, x_test, y_train, y_test = train_test_split(x, y, test_size=0.2, random_state=1)\n",
        "\n",
        "\n",
        "x_train, x_val, y_train, y_val = train_test_split(x_train, y_train, test_size=0.2, random_state=1)\n"
      ]
    },
    {
      "cell_type": "markdown",
      "metadata": {
        "id": "El1Y5JtX6YQZ"
      },
      "source": [
        "Per il training di alcuni modelli occorre standardizzare il dataset per evitare l'*overflow*"
      ]
    },
    {
      "cell_type": "code",
      "execution_count": null,
      "metadata": {
        "id": "yztAkEo20A8P"
      },
      "outputs": [],
      "source": [
        "x_train_std = x_train.copy()\n",
        "s0 = x_train_std.iloc[:,:58]\n",
        "x_train_std.iloc[:,:58] = (s0 - s0.mean()) / (s0.std())\n",
        "\n",
        "x_test_std = x_test.copy()\n",
        "s0 = x_test_std.iloc[:,:58]\n",
        "x_test_std.iloc[:,:58] = (s0 - s0.mean()) / (s0.std())\n",
        "\n",
        "x_val_std = x_val.copy()\n",
        "s0 = x_val_std.iloc[:,:58]\n",
        "x_val_std.iloc[:,:58] = (s0 - s0.mean()) / (s0.std())"
      ]
    },
    {
      "cell_type": "markdown",
      "source": [
        "Elimino la colonna *bias* per i modelli non parametrici"
      ],
      "metadata": {
        "id": "oxkUIDkA7AG6"
      }
    },
    {
      "cell_type": "code",
      "execution_count": null,
      "metadata": {
        "id": "JPR7p_2VDnGr"
      },
      "outputs": [],
      "source": [
        "x_train_nn = x_train_std.iloc[:, :58]\n",
        "x_val_nn = x_val_std.iloc[:, :58]\n",
        "x_test_nn = x_test_std.iloc[:, :58]"
      ]
    },
    {
      "cell_type": "markdown",
      "source": [
        "Per testare i modelli di classificazione:"
      ],
      "metadata": {
        "id": "kDxH_bZLGmq8"
      }
    },
    {
      "cell_type": "code",
      "execution_count": null,
      "metadata": {
        "id": "HT-bOwBmqm1q"
      },
      "outputs": [],
      "source": [
        "y_train_cl = np.where(y_train >= 1400, 1, 0)\n",
        "y_test_cl = np.where(y_test >= 1400, 1, 0)\n",
        "y_val_cl = np.where(y_val >= 1400, 1, 0)"
      ]
    },
    {
      "cell_type": "markdown",
      "source": [
        "## **Metriche utilizzate per la valutazione degli algoritmi**\n",
        "**Modelli di classificazione:**\n",
        "\n",
        "1.   **Accuracy**, già descritta sopra;\n",
        "<br>\n",
        "2.   **F1 score**, metrica che unisce i risultati della *precision* e del *recall*, che valutano rispettivamente quanto possiamo affidarci alle predizioni positive del modello e quanti degli output *1* sono individuati correttamente del modello.<br>\n",
        "In particolare, è la media armonica delle due:\n",
        "$$\\frac{2 \\cdot precision \\cdot recall}{precision + recall}$$\n",
        "<br><br>\n",
        "**Modelli di regressione:**\n",
        "\n",
        "1.  **Root Mean Squared Error**, già descritto sopra;\n",
        "2.  **Mean Absolute Error**:\n",
        "$$\\frac{\\sum_{i=1}^{n}|y_{true} - y_{pred}|}{n}$$\n",
        "\n",
        "\n",
        "\n"
      ],
      "metadata": {
        "id": "isqnPVvn8-KK"
      }
    },
    {
      "cell_type": "markdown",
      "metadata": {
        "id": "vOELT0sYbJFJ"
      },
      "source": [
        "#1. Classificazione con *Decision Tree*"
      ]
    },
    {
      "cell_type": "markdown",
      "metadata": {
        "id": "-qNuXp-xd-yy"
      },
      "source": [
        "Definizione classe albero:\n"
      ]
    },
    {
      "cell_type": "code",
      "execution_count": null,
      "metadata": {
        "id": "lyZfzaGudzNm"
      },
      "outputs": [],
      "source": [
        "class Tree:\n",
        "    def __init__(self, val, label):\n",
        "        self.val = val\n",
        "        self.label = label\n",
        "        self.nodes = []\n",
        "\n",
        "    def add_node(self, tree):\n",
        "        self.nodes.append(tree)"
      ]
    },
    {
      "cell_type": "markdown",
      "metadata": {
        "id": "2lmfra7yOh6Y"
      },
      "source": [
        "**Effettuando una discretizzazione binaria basata su mediana:**"
      ]
    },
    {
      "cell_type": "markdown",
      "source": [
        "Dal momento che lo *splitting* dei dati sugli attributi in ogni nodo dell'albero è effettuato sul valore della mediana dell'attributo del nodo, l'albero di decisione risultante sarà un albero binario. <br>\n",
        "Ogni nodo dell'albero:\n",
        "\n",
        "*   se è un nodo interno: memorizza come valore l'attributo su cui sono splittati i suoi rami, mentre come *label* il valore della mediana rispetto a tale attributo;\n",
        "*   se è una foglia: memorizza il valore della predizione (*1* o *0*) e *leaf* come etichetta\n",
        "\n"
      ],
      "metadata": {
        "id": "lvTOtZd1TY4X"
      }
    },
    {
      "cell_type": "code",
      "execution_count": null,
      "metadata": {
        "id": "jHVHZRPOQECB"
      },
      "outputs": [],
      "source": [
        "class DecisionTree:\n",
        "    def __init__(self, max_depth):\n",
        "        self.MAX_DEPTH = max_depth\n",
        "\n",
        "    # Calcola il valore più comune per l'etichetta tra gli examples\n",
        "    def plurality_value(self, examples, label_name):\n",
        "        values = np.array(examples[label_name])\n",
        "        counts = np.bincount(values)\n",
        "        return np.argmax(counts)\n",
        "\n",
        "    # Calcola il valore dell'entropia binaria rispetto al valore della label\n",
        "    def compute_entropy(self, feature):\n",
        "        y = feature.to_numpy()\n",
        "        if len(y)==0:\n",
        "            return 0\n",
        "        a,b = y[y==0],y[y==1]    # nella nostra classificazione, un valore maggiore di 1400 per la label ha valore 1, altrimenti 0\n",
        "        if len(a)==0 or len(b)==0:  # se ho solo valori '1' o solo '0', allora l'entropia è nulla\n",
        "            return 0\n",
        "        p = len(b)/len(y)\n",
        "        entropy = -1*(p*math.log(p,2)+(1-p)*math.log(1-p,2))    # formula entropia binaria\n",
        "\n",
        "        return(round(entropy, 3))\n",
        "\n",
        "    # Calcola l'information gain di un attributo su un set di dati:\n",
        "    def information_gain(self, examples, label_name, attribute):\n",
        "\n",
        "        # calcola l'entropia prima di splittare sui valori dell'attributo (rispetto alla mediana in questo caso)\n",
        "        target_entropy = self.compute_entropy(examples[label_name])\n",
        "\n",
        "        entropy_list = list()\n",
        "        weight_list = list()\n",
        "\n",
        "        median = examples[attribute].median()\n",
        "\n",
        "        # Nel nostro caso le partizioni sono solo 2\n",
        "        for i in (0,2):\n",
        "            if (i==0):\n",
        "                branch = examples[examples[attribute] < median]\n",
        "            else:\n",
        "                branch = examples[examples[attribute] >= median]\n",
        "\n",
        "            # calcolo l'entropia nel ramo in cui mi trovo\n",
        "            branch_entropy = self.compute_entropy(branch[label_name])\n",
        "\n",
        "            entropy_list.append(round(branch_entropy, 3))\n",
        "            weight_level = len(branch) / len(examples)\n",
        "            weight_list.append(round(weight_level, 3))\n",
        "\n",
        "\n",
        "        # calcola il remainder (entropia media sui rami dell'albero)\n",
        "        remainder = np.sum(np.array(entropy_list) * np.array(weight_list))\n",
        "\n",
        "        information_gain = target_entropy - remainder\n",
        "\n",
        "        return(information_gain)\n",
        "\n",
        "    # Sceglie l'attributo avente l'*information gain* maggiore tra quelli nella lista attributes\n",
        "    def importance(self, attributes, examples, label_name):\n",
        "        max_gain = 0\n",
        "        best = attributes[0]\n",
        "        for attribute in attributes:\n",
        "            gain = self.information_gain(examples, label_name, attribute)\n",
        "            if gain > max_gain:\n",
        "                max_gain = gain\n",
        "                best = attribute\n",
        "        return best\n",
        "\n",
        "    # Costruisce l'albero di decisione\n",
        "    def learn_decision_tree(self, examples, attributes, parent_examples, label_name, depth):\n",
        "\n",
        "        # Un nodo dell'albero è etichettato con 'leaf' se è una foglia, altrimenti con il valore della mediana\n",
        "        # Un nodo ha valore 0 o 1 se è una foglia, altrimenti il valore è l'attributo su cui sono splittati i suoi figli\n",
        "        if len(examples)==0:\n",
        "            return Tree(self.plurality_value(parent_examples, label_name), \"leaf\")\n",
        "\n",
        "        if len(attributes)==0:\n",
        "            return Tree(self.plurality_value(examples, label_name), \"leaf\")\n",
        "\n",
        "        # se tutti i sample hanno lo stesso valore della label, restituisce tale valore\n",
        "        if len(examples[examples[label_name]==0])==0 :\n",
        "            return Tree(1, \"leaf\")\n",
        "        if len(examples[examples[label_name]==1])==0:\n",
        "            return Tree(0, \"leaf\")\n",
        "\n",
        "        # se raggiunge la profondità massima ritorna il valore più comune della label\n",
        "        if (depth == self.MAX_DEPTH):\n",
        "            return Tree(self.plurality_value(examples, label_name), \"leaf\")\n",
        "\n",
        "        # attributo con information gain maggiore\n",
        "        a=self.importance(attributes, examples, label_name)\n",
        "        new_attributes=attributes.copy()\n",
        "        new_attributes.remove(a)\n",
        "\n",
        "        median = examples[a].median()\n",
        "\n",
        "        tree=Tree(a, median)\n",
        "\n",
        "        # effettua lo splitting sulla mediana rispetto all'attributo 'a'\n",
        "        for i in (0,2):\n",
        "            if i==0:\n",
        "                examples_feature_level = examples[examples[a] < median]\n",
        "            else:\n",
        "                examples_feature_level = examples[examples[a] >= median]\n",
        "\n",
        "            # chiama ricorsivamente la funzione in ogni ramo generato\n",
        "            subtree = self.learn_decision_tree(examples_feature_level, new_attributes, examples, label_name, depth+1)\n",
        "            tree.add_node(subtree)\n",
        "\n",
        "\n",
        "        return tree"
      ]
    },
    {
      "cell_type": "markdown",
      "metadata": {
        "id": "y8wIVe73QNVw"
      },
      "source": [
        "Funzioni per effettuare predizione a partire da un'istanza dell'albero:"
      ]
    },
    {
      "cell_type": "code",
      "execution_count": null,
      "metadata": {
        "id": "PZpfFZhjQTw4"
      },
      "outputs": [],
      "source": [
        "# visita l'albero in profondità fino a raggiungere una foglia\n",
        "def predict_single(tree, x_test):\n",
        "    if tree.label==\"leaf\":\n",
        "        return tree.val\n",
        "    if x_test[tree.val]<tree.label:\n",
        "        return predict_single(tree.nodes[0], x_test)\n",
        "    else:\n",
        "        return predict_single(tree.nodes[1], x_test)\n",
        "\n",
        "def predict(tree, x_test): # qui x_test è un insieme di sample\n",
        "    y_pred = []\n",
        "    for i in range(len(x_test)):\n",
        "        y_pred.append(predict_single(tree, x_test.iloc[i]))\n",
        "    return y_pred"
      ]
    },
    {
      "cell_type": "markdown",
      "metadata": {
        "id": "R7_zd6LAgHAT"
      },
      "source": [
        "**Tuning iperparametri:**"
      ]
    },
    {
      "cell_type": "markdown",
      "source": [
        "Uno dei maggiori svantaggi degli algoritmi che utilizzano Decision Tree è l'alta varianza. Ciò può significare in un alto *overfitting*, in assenza di un *pruning*. Per questo motivo assegnamo come iperparametro dell'algoritmo una profondità massima. La ricerca del modello migliore consisterà quindi nella ricerca dell'iperparametro che darà la performance miogliore, in questo caso misurata tramite l'accuracy"
      ],
      "metadata": {
        "id": "FMFYOMtD6ktu"
      }
    },
    {
      "cell_type": "code",
      "execution_count": null,
      "metadata": {
        "id": "n9NXOC8dd6F7"
      },
      "outputs": [],
      "source": [
        "from sklearn.model_selection import train_test_split\n",
        "attributes = list(df)\n",
        "attributes.remove(\"shares\")\n",
        "y_train_class = np.where(y_train >= 1400, 1, 0)\n",
        "y_val_class = np.where(y_val >= 1400, 1, 0)\n",
        "y_test_class = np.where(y_test >= 1400, 1, 0)"
      ]
    },
    {
      "cell_type": "code",
      "execution_count": null,
      "metadata": {
        "id": "XD3H5N8Jew9E"
      },
      "outputs": [],
      "source": [
        "train = pd.concat([x_train, y_train], axis=1)\n",
        "train['shares'] = np.where(train['shares'] >= 1400, 1, 0)"
      ]
    },
    {
      "cell_type": "code",
      "execution_count": null,
      "metadata": {
        "colab": {
          "base_uri": "https://localhost:8080/"
        },
        "id": "RA8XTkmnYF8Y",
        "outputId": "c1847c00-c66e-4a71-b683-c1323753e5a8"
      },
      "outputs": [
        {
          "output_type": "stream",
          "name": "stdout",
          "text": [
            "Profondità massima: 1 Accuracy: 0.5883651269115561\n",
            "Profondità massima: 2 Accuracy: 0.5869462399495506\n",
            "Profondità massima: 3 Accuracy: 0.6012927636764938\n",
            "Profondità massima: 4 Accuracy: 0.620211256503232\n",
            "Profondità massima: 5 Accuracy: 0.6219454516790163\n",
            "Profondità massima: 6 Accuracy: 0.6268327289925902\n",
            "Profondità massima: 7 Accuracy: 0.6282516159545957\n",
            "Profondità massima: 8 Accuracy: 0.6205265647170108\n",
            "Profondità massima: 9 Accuracy: 0.6159545956172159\n",
            "Profondità massima: 10 Accuracy: 0.5978243733249251\n",
            "Valore migliore: 6\n"
          ]
        }
      ],
      "source": [
        "# Test con valori di k (max_depth) compresi tra 1 e 10\n",
        "l = []\n",
        "for k in range(1,11):\n",
        "  decisiontree = DecisionTree(k)\n",
        "  tree = decisiontree.learn_decision_tree(train, attributes, train, \"shares\", 0)\n",
        "  y_pred = predict(tree, x_val)\n",
        "  l.append(accuracy_score(y_val_class, y_pred))\n",
        "  print(\"Profondità massima:\", k ,\"Accuracy:\", accuracy_score(y_val_class, y_pred))\n",
        "best = max(l)\n",
        "print(\"Valore migliore:\", l.index(best)+1)"
      ]
    },
    {
      "cell_type": "code",
      "source": [
        "l=np.array(l)\n",
        "l=l.flatten()\n",
        "k = np.array([k for k in range(1,11)])\n",
        "plt.xlabel('Max depth')\n",
        "plt.ylabel('Accuracy')\n",
        "plt.plot(k, l)\n",
        "plt.show()"
      ],
      "metadata": {
        "id": "w8P7EdxzFKak",
        "colab": {
          "base_uri": "https://localhost:8080/",
          "height": 452
        },
        "outputId": "341be3bc-3ca2-4630-97b7-3c2f68c40562"
      },
      "execution_count": null,
      "outputs": [
        {
          "output_type": "display_data",
          "data": {
            "text/plain": [
              "<Figure size 640x480 with 1 Axes>"
            ],
            "image/png": "[encoded data removed]"
          },
          "metadata": {}
        }
      ]
    },
    {
      "cell_type": "markdown",
      "source": [
        "###Test"
      ],
      "metadata": {
        "id": "L34EnJxAd-Te"
      }
    },
    {
      "cell_type": "code",
      "source": [
        "MAX_DEPTH = 7    # è il valore dell'iperparametro scelto nella fase di validation\n",
        "decisiontree = DecisionTree(MAX_DEPTH)\n",
        "tree = decisiontree.learn_decision_tree(train, attributes, train, \"shares\", 0)\n",
        "y_pred_decisiontree = predict(tree, x_test)"
      ],
      "metadata": {
        "id": "w9utJuE-bLLb"
      },
      "execution_count": null,
      "outputs": []
    },
    {
      "cell_type": "code",
      "source": [
        "accuracy = accuracy_score(y_test_class, y_pred_decisiontree)\n",
        "print(\"ACCURACY:\",accuracy)"
      ],
      "metadata": {
        "colab": {
          "base_uri": "https://localhost:8080/"
        },
        "id": "fin1FYk7mdKD",
        "outputId": "89d07da3-468f-4196-f471-6e45c21af983"
      },
      "execution_count": null,
      "outputs": [
        {
          "output_type": "stream",
          "name": "stdout",
          "text": [
            "ACCURACY: 0.6206331189305082\n"
          ]
        }
      ]
    },
    {
      "cell_type": "code",
      "source": [
        "f1 = f1_score(y_test_class, y_pred_decisiontree)\n",
        "print(\"F1 SCORE:\", f1)"
      ],
      "metadata": {
        "colab": {
          "base_uri": "https://localhost:8080/"
        },
        "id": "coUrFXiXCSnE",
        "outputId": "07deb5e7-81b3-4ab8-d317-b36bc391b4e0"
      },
      "execution_count": null,
      "outputs": [
        {
          "output_type": "stream",
          "name": "stdout",
          "text": [
            "F1 SCORE: 0.6676243093922651\n"
          ]
        }
      ]
    },
    {
      "cell_type": "markdown",
      "metadata": {
        "id": "lzJY8u4tAzfV"
      },
      "source": [
        "###Prova con sklearn"
      ]
    },
    {
      "cell_type": "code",
      "execution_count": null,
      "metadata": {
        "colab": {
          "base_uri": "https://localhost:8080/"
        },
        "outputId": "d9b5f915-43ea-4c29-d75b-4afa50884106",
        "id": "Fw4mRjPZAzfc"
      },
      "outputs": [
        {
          "output_type": "stream",
          "name": "stdout",
          "text": [
            "Accuracy Sklearn:  0.6384159414806407\n"
          ]
        }
      ],
      "source": [
        "from sklearn.tree import DecisionTreeClassifier\n",
        "scl = DecisionTreeClassifier(max_depth = 7, criterion = 'entropy')\n",
        "scl.fit(x_train_nn, y_train_cl)\n",
        "y_pred_scl = scl.predict(x_test_nn)\n",
        "print(\"Accuracy Sklearn: \", accuracy_score(y_test_cl, y_pred_scl))"
      ]
    },
    {
      "cell_type": "markdown",
      "metadata": {
        "id": "eP7rbXrnMFUe"
      },
      "source": [
        "#2. Regressione lineare"
      ]
    },
    {
      "cell_type": "markdown",
      "source": [
        "Per i 4 modelli di Regressione Lineare implementati (senza regolarizzazione, con regolarizzazione L1, L2 ed Elastic Net) ho utilizzato il ***gradient descent*** per costruire il vettore dei pesi $w$ in modo da minimizzare la *loss function*"
      ],
      "metadata": {
        "id": "HyTE53gs2p6C"
      }
    },
    {
      "cell_type": "markdown",
      "metadata": {
        "id": "PUvNKf2zMnJ9"
      },
      "source": [
        "##Senza regolarizzazione"
      ]
    },
    {
      "cell_type": "markdown",
      "source": [
        "Nella fase di training del modello, per ogni epoca i pesi sono aggiornati in questo modo: <br><br>\n",
        "$$w \\leftarrow w + \\alpha\\sum_{j}(y_{j} - h_{w})\\times x_{j}$$\n",
        "con *j* i sample, $y_{j}$ la ground thruth del sample *j*-esimo"
      ],
      "metadata": {
        "id": "iO0b94qVy_-N"
      }
    },
    {
      "cell_type": "code",
      "execution_count": null,
      "metadata": {
        "id": "yrlZ9kHPdisz"
      },
      "outputs": [],
      "source": [
        "class LinearRegression:\n",
        "    def __init__(self, n, lr, epoch):\n",
        "        # inizializzo il vettore dei pesi ad un valore casuale\n",
        "        self.weights = np.random.randn(n)\n",
        "        self.learning_rate = lr\n",
        "        self.epoch = epoch\n",
        "\n",
        "    # Calcola il gradiente della funzione di loss\n",
        "    def gradient(self, x, y_train, y_pred):\n",
        "        return np.dot(y_train - y_pred, x)\n",
        "\n",
        "    def fit(self, x_train_std, y_train):\n",
        "\n",
        "        x_train_std = np.array(x_train_std)\n",
        "        y_train = np.array(y_train)\n",
        "        n_sample = len(x_train)\n",
        "\n",
        "        for i in range(self.epoch):\n",
        "            # valore attuale dell'ipotesi\n",
        "            h = np.dot(x_train_std, self.weights)\n",
        "\n",
        "            # aggiorno il vettore dei pesi\n",
        "            diff = self.learning_rate * self.gradient(x_train_std, y_train, h)\n",
        "            self.weights += diff\n",
        "\n",
        "    def predict(self, x_test):\n",
        "        return np.dot(x_test, self.weights)\n"
      ]
    },
    {
      "cell_type": "markdown",
      "metadata": {
        "id": "b8UdK3QvfqIA"
      },
      "source": [
        "###Test"
      ]
    },
    {
      "cell_type": "code",
      "execution_count": null,
      "metadata": {
        "id": "Lm-qgMvndmdO"
      },
      "outputs": [],
      "source": [
        "linear_regression = LinearRegression(x_train_std.shape[1], 0.00001, 300)\n",
        "linear_regression.fit(x_train_std, y_train)\n",
        "y_pred_lr = linear_regression.predict(x_test_std)"
      ]
    },
    {
      "cell_type": "code",
      "source": [
        "rms = mean_squared_error(y_test, y_pred_lr, squared=False)\n",
        "print(\"RMSE:\", rms)\n",
        "mae = mean_absolute_error(y_test, y_pred_lr)\n",
        "print(\"MAE:\", mae)"
      ],
      "metadata": {
        "colab": {
          "base_uri": "https://localhost:8080/"
        },
        "id": "IEKwXP33E2q5",
        "outputId": "75304509-d9ad-4e51-a56f-15c48736762c"
      },
      "execution_count": null,
      "outputs": [
        {
          "output_type": "stream",
          "name": "stdout",
          "text": [
            "RMSE: 8276.897998719402\n",
            "MAE: 2984.9824051245673\n"
          ]
        }
      ]
    },
    {
      "cell_type": "markdown",
      "metadata": {
        "id": "iVilrVLDs8lp"
      },
      "source": [
        "###Prova con Sklearn"
      ]
    },
    {
      "cell_type": "code",
      "execution_count": null,
      "metadata": {
        "id": "Re5gLJZutAPD",
        "colab": {
          "base_uri": "https://localhost:8080/"
        },
        "outputId": "90f00b81-8583-4a17-be3d-fd810d8da026"
      },
      "outputs": [
        {
          "output_type": "stream",
          "name": "stdout",
          "text": [
            "RMSE sklearn: 8274.385395111436\n"
          ]
        }
      ],
      "source": [
        "from sklearn import linear_model\n",
        "reg = linear_model.LinearRegression()\n",
        "reg.fit(x_train_std, y_train)\n",
        "y_pred_s = reg.predict(x_test_std)\n",
        "rms = mean_squared_error(y_test, y_pred, squared=False)\n",
        "print(\"RMSE sklearn:\", rms)"
      ]
    },
    {
      "cell_type": "markdown",
      "metadata": {
        "id": "9oZwpfRnY5H6"
      },
      "source": [
        "##Con regolarizzazione L1"
      ]
    },
    {
      "cell_type": "markdown",
      "metadata": {
        "id": "nBF4jW_FQXDt"
      },
      "source": [
        "Effettuando la regolarizzazione, aggiungiamo alla funzione di costo un termine relativo alla complessità dell'ipotesi. Nel caso della regolarizzazione L1 il termine della complessità è utilizzato per minimizzare la somma dei valori assoluti dei pesi. La nuova *loss* è:<br> $$MSE(y_{pred},y_{true}) + \\lambda_{1}\\sum_{j} |w_{j}|$$  \n",
        "I pesi sono aggiornati ad ogni *epoca* sommando ad essi l'opposto del gradiente della nuova *loss*, moltiplicato per il *learning rate*"
      ]
    },
    {
      "cell_type": "code",
      "source": [
        "class LassoRegression:\n",
        "    def __init__(self, n, lr, lam, epoch):\n",
        "        # inizializzo il vettore dei pesi ad un valore casuale\n",
        "        self.weights = np.random.randn(n)\n",
        "        self.learning_rate = lr\n",
        "        self.epoch = epoch\n",
        "        self.lam = lam\n",
        "\n",
        "    # calcola il gradiente della loss L2\n",
        "    def gradient(self, x, y_train, y_pred):\n",
        "        return np.dot(y_train - y_pred, x)\n",
        "\n",
        "    # calcola il gradiente della complessità\n",
        "    def lossGradientL1(self):\n",
        "        return np.sign(self.weights)\n",
        "\n",
        "    def fit(self, x_train_std, y_train):\n",
        "\n",
        "        x_train_std = np.array(x_train_std)\n",
        "        y_train = np.array(y_train)\n",
        "        n_sample = len(x_train)\n",
        "\n",
        "        for i in range(self.epoch):\n",
        "            h = np.dot(x_train_std, self.weights)\n",
        "\n",
        "            # aggiorno il vettore dei pesi\n",
        "            diff = self.learning_rate * (self.gradient(x_train_std, y_train, h) + self.lam * self.lossGradientL1())\n",
        "            self.weights += diff\n",
        "\n",
        "    def predict(self, x_test):\n",
        "        return np.dot(x_test, self.weights)\n"
      ],
      "metadata": {
        "id": "sif3Rtm9Jcgq"
      },
      "execution_count": null,
      "outputs": []
    },
    {
      "cell_type": "markdown",
      "metadata": {
        "id": "d7uLfsbzOtHX"
      },
      "source": [
        "**Tuning iperparametri:**"
      ]
    },
    {
      "cell_type": "markdown",
      "source": [
        "Effettiamo il tuning dell'iperparametro $\\lambda_{1}$, utilizzando come metrica il *root mean squared error*\n",
        "\n"
      ],
      "metadata": {
        "id": "Ct2sXXse9oKZ"
      }
    },
    {
      "cell_type": "code",
      "execution_count": null,
      "metadata": {
        "id": "DKbJi-_TJip_",
        "colab": {
          "base_uri": "https://localhost:8080/"
        },
        "outputId": "dc515b33-6f90-44ff-a885-3a265c4cb74c"
      },
      "outputs": [
        {
          "output_type": "stream",
          "name": "stdout",
          "text": [
            "Lambda: 0.01  RMSE: 7492.7303587399065\n",
            "Lambda: 0.025  RMSE: 7492.73632922901\n",
            "Lambda: 0.05  RMSE: 7492.788997895759\n",
            "Lambda: 0.075  RMSE: 7492.804759506659\n",
            "Lambda: 0.1  RMSE: 7492.697586080372\n",
            "Lambda: 0.125  RMSE: 7492.787646527893\n",
            "Lambda: 0.15  RMSE: 7492.755014884477\n",
            "Lambda: 0.175  RMSE: 7492.811790351197\n",
            "Lambda: 0.2  RMSE: 7492.724864337324\n",
            "Miglior valore di lambda: 0.1\n"
          ]
        }
      ],
      "source": [
        "from sklearn.metrics import mean_absolute_error\n",
        "l = []\n",
        "values = [0.01, 0.025, 0.05, 0.075, 0.1, 0.125, 0.15, 0.175, 0.2]\n",
        "for lam in values:\n",
        "  lasso_regression = LassoRegression(x_train_std.shape[1], 0.00001, lam, 300)\n",
        "  lasso_regression.fit(x_train_std, y_train)\n",
        "  y_pred = lasso_regression.predict(x_val_std)\n",
        "  rms = mean_squared_error(y_val, y_pred, squared=False)\n",
        "  l.append(rms)\n",
        "  print(\"Lambda:\", lam, \" RMSE:\",rms)\n",
        "best = min(l)\n",
        "print(\"Miglior valore di lambda:\", values[l.index(best)])\n"
      ]
    },
    {
      "cell_type": "code",
      "source": [
        "l=np.array(l)\n",
        "l=l.flatten()\n",
        "k = values\n",
        "plt.xlabel('Lambda')\n",
        "plt.ylabel('RMSE')\n",
        "plt.plot(k, l)\n",
        "plt.show()"
      ],
      "metadata": {
        "colab": {
          "base_uri": "https://localhost:8080/",
          "height": 465
        },
        "id": "NKyQtvPfh73z",
        "outputId": "d1f3ad66-aaf7-410a-c48f-a782d62d2b2e"
      },
      "execution_count": null,
      "outputs": [
        {
          "output_type": "display_data",
          "data": {
            "text/plain": [
              "<Figure size 640x480 with 1 Axes>"
            ],
            "image/png": "[encoded data removed]"
          },
          "metadata": {}
        }
      ]
    },
    {
      "cell_type": "markdown",
      "source": [
        "###Test"
      ],
      "metadata": {
        "id": "7ReqQ5SoakvC"
      }
    },
    {
      "cell_type": "code",
      "source": [
        "lasso_regression = LassoRegression(x_train_std.shape[1], 0.00001, 0.1, 300)\n",
        "lasso_regression.fit(x_train_std, y_train)\n",
        "y_pred_l1 = lasso_regression.predict(x_test_std)"
      ],
      "metadata": {
        "id": "w7k94pmbanb7"
      },
      "execution_count": null,
      "outputs": []
    },
    {
      "cell_type": "code",
      "source": [
        "rms = mean_squared_error(y_test, y_pred_l1, squared=False)\n",
        "print(\"RMSE:\", rms)\n",
        "mae = mean_absolute_error(y_test, y_pred_l1)\n",
        "print(\"MAE:\", mae)"
      ],
      "metadata": {
        "colab": {
          "base_uri": "https://localhost:8080/"
        },
        "id": "pYBr6P5cFSNF",
        "outputId": "8f6469e7-7219-43a3-e381-f1e9e4bbe410"
      },
      "execution_count": null,
      "outputs": [
        {
          "output_type": "stream",
          "name": "stdout",
          "text": [
            "RMSE: 8276.895485585817\n",
            "MAE: 2984.980385026167\n"
          ]
        }
      ]
    },
    {
      "cell_type": "markdown",
      "metadata": {
        "id": "1FI0n2EFY-3u"
      },
      "source": [
        "##Con regolarizzazione L2"
      ]
    },
    {
      "cell_type": "markdown",
      "source": [
        "Nel caso della regolarizzazione L2 il termine legato alla complessità mira a minimizzare la somma dei quadrati dei pesi. La nuova *loss* è:<br>\n",
        "$$MSE(y_{pred},y_{true}) + \\lambda_{2}\\sum_{j}w_{j}^2$$\n"
      ],
      "metadata": {
        "id": "zF56_Q7epycn"
      }
    },
    {
      "cell_type": "code",
      "source": [
        "class RidgeRegression:\n",
        "    def __init__(self, n, lr, lam, epoch):\n",
        "        # inizializzo il vettore dei pesi ad un valore casuale\n",
        "        self.weights = np.random.randn(n)\n",
        "        self.learning_rate = lr\n",
        "        self.epoch = epoch\n",
        "        self.lam = lam\n",
        "\n",
        "    # calcola della loss L2\n",
        "    def gradient(self, x, y_train, y_pred):\n",
        "        return np.dot(y_train - y_pred, x)\n",
        "\n",
        "    # calcola il gradiente della complessità\n",
        "    def lossGradientL2(self):\n",
        "        return 2 * self.weights\n",
        "\n",
        "    def fit(self, x_train_std, y_train):\n",
        "\n",
        "        x_train_std = np.array(x_train_std)\n",
        "        y_train = np.array(y_train)\n",
        "        n_sample = len(x_train)\n",
        "\n",
        "        for i in range(self.epoch):\n",
        "            h = np.dot(x_train_std, self.weights)\n",
        "\n",
        "            # aggiorno il vettore dei pesi\n",
        "            diff = self.learning_rate * (self.gradient(x_train_std, y_train, h) + self.lam * self.lossGradientL2())\n",
        "            self.weights += diff\n",
        "\n",
        "    def predict(self, x_test):\n",
        "        return np.dot(x_test, self.weights)\n"
      ],
      "metadata": {
        "id": "S9zDe0ShKKVg"
      },
      "execution_count": null,
      "outputs": []
    },
    {
      "cell_type": "markdown",
      "metadata": {
        "id": "CzIVFP5Md9VH"
      },
      "source": [
        "**Tuning iperparametri:**"
      ]
    },
    {
      "cell_type": "code",
      "execution_count": null,
      "metadata": {
        "id": "ZT7fV9U_KKVi",
        "colab": {
          "base_uri": "https://localhost:8080/"
        },
        "outputId": "b7610c99-509b-41f6-8c99-d260837d1ea8"
      },
      "outputs": [
        {
          "output_type": "stream",
          "name": "stdout",
          "text": [
            "Lambda: 0.01  RMSE: 7492.751729006167\n",
            "Lambda: 0.025  RMSE: 7492.73127353208\n",
            "Lambda: 0.05  RMSE: 7492.811071076896\n",
            "Lambda: 0.075  RMSE: 7492.785904393662\n",
            "Lambda: 0.1  RMSE: 7492.777239236939\n",
            "Lambda: 0.125  RMSE: 7492.79591136215\n",
            "Lambda: 0.15  RMSE: 7492.787153690229\n",
            "Lambda: 0.175  RMSE: 7492.752545194625\n",
            "Lambda: 0.2  RMSE: 7492.762118848143\n",
            "Miglior valore di lambda: 0.025\n"
          ]
        }
      ],
      "source": [
        "l = []\n",
        "values = [0.01, 0.025, 0.05, 0.075, 0.1, 0.125, 0.15, 0.175, 0.2]\n",
        "for lam in values:\n",
        "  ridge_regression = RidgeRegression(x_train_std.shape[1], 0.00001, lam, 300)\n",
        "  ridge_regression.fit(x_train_std, y_train)\n",
        "  y_pred = ridge_regression.predict(x_val_std)\n",
        "  rms = mean_squared_error(y_val, y_pred, squared=False)\n",
        "  l.append(rms)\n",
        "  print(\"Lambda:\", lam, \" RMSE:\",rms)\n",
        "best = min(l)\n",
        "print(\"Miglior valore di lambda:\", values[l.index(best)])"
      ]
    },
    {
      "cell_type": "code",
      "source": [
        "l=np.array(l)\n",
        "l=l.flatten()\n",
        "k = values\n",
        "plt.xlabel('Lambda')\n",
        "plt.ylabel('RMSE')\n",
        "plt.plot(k, l)\n",
        "plt.show()"
      ],
      "metadata": {
        "colab": {
          "base_uri": "https://localhost:8080/",
          "height": 465
        },
        "id": "Dfb4NUDTixSG",
        "outputId": "b47d84d6-d1b7-44a3-e38f-56809eb0fbe1"
      },
      "execution_count": null,
      "outputs": [
        {
          "output_type": "display_data",
          "data": {
            "text/plain": [
              "<Figure size 640x480 with 1 Axes>"
            ],
            "image/png": "[encoded data removed]"
          },
          "metadata": {}
        }
      ]
    },
    {
      "cell_type": "markdown",
      "source": [
        "###Test"
      ],
      "metadata": {
        "id": "kSI47vzPYebQ"
      }
    },
    {
      "cell_type": "code",
      "source": [
        "ridge_regression = RidgeRegression(x_train_std.shape[1], 0.00001, 0.025, 300)\n",
        "ridge_regression.fit(x_train_std, y_train)\n",
        "y_pred_ridgereg = ridge_regression.predict(x_test_std)"
      ],
      "metadata": {
        "id": "lmbvYgDHYebW"
      },
      "execution_count": null,
      "outputs": []
    },
    {
      "cell_type": "code",
      "source": [
        "rms = mean_squared_error(y_test, y_pred_ridgereg, squared=False)\n",
        "print(\"RMSE:\", rms)\n",
        "mae = mean_absolute_error(y_test, y_pred_ridgereg)\n",
        "print(\"MAE:\", mae)"
      ],
      "metadata": {
        "colab": {
          "base_uri": "https://localhost:8080/"
        },
        "id": "mMyuR9i6FlUO",
        "outputId": "bcf67c6b-7c68-4fef-8d6f-37a1bffcd96f"
      },
      "execution_count": null,
      "outputs": [
        {
          "output_type": "stream",
          "name": "stdout",
          "text": [
            "RMSE: 8276.899186107285\n",
            "MAE: 2984.9866243654374\n"
          ]
        }
      ]
    },
    {
      "cell_type": "markdown",
      "metadata": {
        "id": "3GE6A5S7JOSz"
      },
      "source": [
        "##Con *Elastic Net*"
      ]
    },
    {
      "cell_type": "markdown",
      "source": [
        "La regolarizzazione *Elastic Net* combina le regolarizzazioni *Lasso* e *Ridge*. In questo caso sono stati utilizzati due parametri $\\lambda_{1}$ e $\\lambda_{2}$ che moltiplicano rispettivamente i termini di complessità L1 e L2"
      ],
      "metadata": {
        "id": "gq2_kFpzL5Bx"
      }
    },
    {
      "cell_type": "code",
      "source": [
        "class ElasticNet:\n",
        "    def __init__(self, n, lr, lam1, lam2, epoch):\n",
        "        # inizializzo il vettore dei pesi ad un valore casuale\n",
        "        self.weights = np.random.randn(n)\n",
        "        self.learning_rate = lr\n",
        "        self.epoch = epoch\n",
        "        self.lam1 = lam1\n",
        "        self.lam2 = lam2\n",
        "\n",
        "    def gradient(self, x, y_train, y_pred):\n",
        "        return np.dot(y_train - y_pred, x)\n",
        "\n",
        "    def lossGradientL2(self):\n",
        "        return 2 * self.weights\n",
        "\n",
        "    def lossGradientL1(self):\n",
        "        return np.sign(self.weights)\n",
        "\n",
        "    def fit(self, x_train_std, y_train):\n",
        "\n",
        "        x_train_std = np.array(x_train_std)\n",
        "        y_train = np.array(y_train)\n",
        "        n_sample = len(x_train)\n",
        "\n",
        "        for i in range(self.epoch):\n",
        "            h = np.dot(x_train_std, self.weights)\n",
        "\n",
        "            # aggiorno il vettore dei pesi\n",
        "            diff = self.learning_rate * (self.gradient(x_train_std, y_train, h) + self.lam1 * self.lossGradientL1() + self.lam2 * self.lossGradientL2())\n",
        "            self.weights = self.weights + diff\n",
        "\n",
        "    def predict(self, x_test):\n",
        "        return np.dot(x_test, self.weights)\n"
      ],
      "metadata": {
        "id": "5VXzcgUwLzfK"
      },
      "execution_count": null,
      "outputs": []
    },
    {
      "cell_type": "markdown",
      "metadata": {
        "id": "D9S8uOKCpKSB"
      },
      "source": [
        "###Test"
      ]
    },
    {
      "cell_type": "code",
      "execution_count": null,
      "metadata": {
        "id": "endCNhe8Lzfk"
      },
      "outputs": [],
      "source": [
        "elastic_net = ElasticNet(x_train_std.shape[1], 0.00001, 0.1, 0.025, 300)\n",
        "elastic_net.fit(x_train_std, y_train)\n",
        "y_pred_en = elastic_net.predict(x_test_std)"
      ]
    },
    {
      "cell_type": "code",
      "source": [
        "rms = mean_squared_error(y_test, y_pred_en, squared=False)\n",
        "print(\"RMSE:\", rms)\n",
        "mae = mean_absolute_error(y_test, y_pred_en)\n",
        "print(\"MAE:\", mae)"
      ],
      "metadata": {
        "colab": {
          "base_uri": "https://localhost:8080/"
        },
        "id": "KrUWh3WdFutu",
        "outputId": "4abc79ff-8100-46bb-e8c5-460f3db946da"
      },
      "execution_count": null,
      "outputs": [
        {
          "output_type": "stream",
          "name": "stdout",
          "text": [
            "RMSE: 8276.89862123918\n",
            "MAE: 2984.9888726946647\n"
          ]
        }
      ]
    },
    {
      "cell_type": "markdown",
      "metadata": {
        "id": "jlgR3v8xntmw"
      },
      "source": [
        "#3. Classificazione con Regressione Lineare"
      ]
    },
    {
      "cell_type": "markdown",
      "source": [
        "La classificazione è effettuata utilizzando un **confine di decisione**, che in questo caso è la retta $w \\cdot x$.<br>\n",
        "La funzione **ipotesi** della classificazione, così come quella utilizzata per effettuare le predizioni, è la funzione di threshold:\n",
        "$$Thresh(w \\cdot x) = 1\\ \\text{se w $\\cdot$ x $\\geq$ 0;    0 altrimenti}$$"
      ],
      "metadata": {
        "id": "46VjMPR0aGIV"
      }
    },
    {
      "cell_type": "code",
      "source": [
        "class LinearClassification:\n",
        "    def __init__(self, n, lr, epoch):\n",
        "        # inizializzo il vettore dei pesi ad un valore casuale\n",
        "        self.weights = np.random.randn(n)\n",
        "        self.learning_rate = lr\n",
        "        self.epoch = epoch\n",
        "\n",
        "    def threshold(self, x_train):\n",
        "        # funzione threshold(w*x), restituisce 1 se w*x >= 0, 0 altrimenti\n",
        "        y_pred = np.dot(x_train, self.weights)\n",
        "        return np.where(y_pred >= 0, 1, 0)\n",
        "\n",
        "    def gradient(self, x, y_train, y_pred):\n",
        "        return np.dot(y_train - y_pred, x)\n",
        "\n",
        "\n",
        "    def fit(self, x_train, y_train):\n",
        "\n",
        "        x_train = np.array(x_train)\n",
        "        y_train = np.array(y_train)\n",
        "\n",
        "        for i in range(self.epoch):\n",
        "            # ipotesi calcolata con la funzione threshold\n",
        "            h = self.threshold(x_train)\n",
        "\n",
        "            # aggiorno il vettore dei pesi\n",
        "            diff = self.learning_rate * self.gradient(x_train, y_train, h)\n",
        "            self.weights = self.weights + diff\n",
        "\n",
        "    def predict(self, x_test):\n",
        "        return self.threshold(x_test)\n",
        "\n"
      ],
      "metadata": {
        "id": "XKqNyAxtuwZY"
      },
      "execution_count": null,
      "outputs": []
    },
    {
      "cell_type": "markdown",
      "metadata": {
        "id": "SxJDBvj3qlhx"
      },
      "source": [
        "###Test"
      ]
    },
    {
      "cell_type": "code",
      "source": [
        "lr_linclass, epoch_linclass = 0.00001, 300\n",
        "linear_classification = LinearClassification(x_train_std.shape[1], lr_linclass, epoch_linclass)\n",
        "linear_classification.fit(x_train_std, y_train_cl)\n",
        "y_pred_linclass = linear_classification.predict(x_test_std)"
      ],
      "metadata": {
        "id": "8oK__xVmbkZp"
      },
      "execution_count": null,
      "outputs": []
    },
    {
      "cell_type": "code",
      "source": [
        "print(\"Accuracy: \", accuracy_score(y_test_cl, y_pred_linclass))\n",
        "print(\"F1 score:\", f1_score(y_test_cl, y_pred_linclass))"
      ],
      "metadata": {
        "colab": {
          "base_uri": "https://localhost:8080/"
        },
        "id": "Qx08Yw2gCt92",
        "outputId": "8800fe1b-dcdb-4d87-9f40-3202c9e2fb05"
      },
      "execution_count": null,
      "outputs": [
        {
          "output_type": "stream",
          "name": "stdout",
          "text": [
            "Accuracy:  0.5897338882582923\n",
            "F1 score: 0.6292877492877493\n"
          ]
        }
      ]
    },
    {
      "cell_type": "markdown",
      "metadata": {
        "id": "uY7mrp4Qlr1a"
      },
      "source": [
        "#4. Classificazione con Regressione logistica"
      ]
    },
    {
      "cell_type": "markdown",
      "source": [
        "L'ipotesi è ora calcolata con la funzione logistica: $$h_{w}(x) = \\frac{1}{1+e^{-wx}}$$<br>\n",
        "L'output della classificazione è calcolato sempre con la funzione logistica e utilizzando 0.5 come valore di *threshold*"
      ],
      "metadata": {
        "id": "6OQbm304K25e"
      }
    },
    {
      "cell_type": "code",
      "source": [
        "class LogisticClassification:\n",
        "    def __init__(self, n, lr, epoch):\n",
        "        # inizializzo il vettore dei pesi ad un valore casuale\n",
        "        self.weights = np.random.randn(n)\n",
        "        self.learning_rate = lr\n",
        "        self.epoch = epoch\n",
        "\n",
        "    def sigmoid(self, x):\n",
        "        wx = np.dot(x, self.weights)\n",
        "        # applico la funzione sigmoide\n",
        "        return 1 / (1 + np.exp(-wx))\n",
        "\n",
        "    def gradient(self, x, y_train, y_pred):\n",
        "        return np.dot(y_train - y_pred, x)\n",
        "\n",
        "\n",
        "    def fit(self, x_train, y_train):\n",
        "\n",
        "        x_train = np.array(x_train)\n",
        "        y_train = np.array(y_train)\n",
        "\n",
        "        for i in range(self.epoch):\n",
        "            h = self.sigmoid(x_train)\n",
        "\n",
        "            # aggiorno il vettore dei pesi\n",
        "            diff = self.learning_rate * self.gradient(x_train, y_train, h)\n",
        "            self.weights += diff\n",
        "\n",
        "    def predict(self, x_test):\n",
        "        # funzione sigmoide\n",
        "        y_pred = self.sigmoid(x_test)\n",
        "\n",
        "        # valore di threshold a 0.5\n",
        "        y_pred[y_pred >= 0.5] = 1\n",
        "        y_pred[y_pred < 0.5] = 0\n",
        "        return y_pred\n"
      ],
      "metadata": {
        "id": "EbNwN9Exy1bQ"
      },
      "execution_count": null,
      "outputs": []
    },
    {
      "cell_type": "markdown",
      "metadata": {
        "id": "LJdjjH2bfsq6"
      },
      "source": [
        "###Test"
      ]
    },
    {
      "cell_type": "code",
      "source": [
        "lr_logclass, epoch_logclass = 0.00001, 300    # valori iperparametri scelti nella validation\n",
        "logistic_classification = LogisticClassification(x_train_std.shape[1], lr_logclass, epoch_logclass)\n",
        "logistic_classification.fit(x_train_std, y_train_cl)\n",
        "y_pred_logclass = logistic_classification.predict(x_test_std)"
      ],
      "metadata": {
        "id": "NvX1BM17b6Cj"
      },
      "execution_count": null,
      "outputs": []
    },
    {
      "cell_type": "code",
      "source": [
        "print(\"Accuracy: \", accuracy_score(y_test_cl, y_pred_logclass))\n",
        "print(\"F1 score:\", f1_score(y_test_cl, y_pred_logclass))"
      ],
      "metadata": {
        "colab": {
          "base_uri": "https://localhost:8080/"
        },
        "id": "Q0N0ZR6GDH27",
        "outputId": "155b39b6-3514-453f-9319-cc69c923d0b2"
      },
      "execution_count": null,
      "outputs": [
        {
          "output_type": "stream",
          "name": "stdout",
          "text": [
            "Accuracy:  0.6421995207466263\n",
            "F1 score: 0.6712249391586511\n"
          ]
        }
      ]
    },
    {
      "cell_type": "markdown",
      "metadata": {
        "id": "kOuLN1LN_POG"
      },
      "source": [
        "###Prova con sklearn"
      ]
    },
    {
      "cell_type": "code",
      "execution_count": null,
      "metadata": {
        "colab": {
          "base_uri": "https://localhost:8080/"
        },
        "outputId": "9baf6a1d-c68c-44f0-cbbc-4f3adb678775",
        "id": "qeLoIXTY_PON"
      },
      "outputs": [
        {
          "output_type": "stream",
          "name": "stdout",
          "text": [
            "Accuracy Sklearn:  0.6472442931012738\n"
          ]
        }
      ],
      "source": [
        "from sklearn.linear_model import LogisticRegression\n",
        "scl = LogisticRegression()\n",
        "scl.fit(x_train_std, y_train_cl)\n",
        "y_pred_scl = scl.predict(x_test_std)\n",
        "print(\"Accuracy Sklearn: \", accuracy_score(y_test_cl, y_pred_scl))"
      ]
    },
    {
      "cell_type": "markdown",
      "metadata": {
        "id": "jv6Vl_ft_lER"
      },
      "source": [
        "#5. Regressione con *K-Nearest Neighbors*"
      ]
    },
    {
      "cell_type": "markdown",
      "metadata": {
        "id": "80xufSBbBYKd"
      },
      "source": [
        "In questa implementazione dell'algoritmo **K-Nearest Neighbors** utilizzo la **distanza euclidea** per calcolare la distanza tra il sample di test e tutti i sample di train, per poi effettuare la predizione calcolando la **media**, nel caso della regressione, e il **valore più comune**, nel caso della classificazione, dell'output dei *k* sample più vicini a quello di test."
      ]
    },
    {
      "cell_type": "code",
      "source": [
        "class KNearestNeighbors:\n",
        "    def __init__(self, k):\n",
        "        self.k = k\n",
        "\n",
        "    def find_neighbors(self, x_train, y_train, x_test_s):\n",
        "        x_train = np.array(x_train)\n",
        "        x_test_s = np.array(x_test_s)\n",
        "        y_train = np.array(y_train)\n",
        "\n",
        "        # calcola la distanza tra il sample di test e tutte le righe del dataset\n",
        "        diff = x_train - x_test_s\n",
        "        squared_diff = diff ** 2\n",
        "        sum_squared_diff = squared_diff.sum(axis=1)\n",
        "        dist = np.sqrt(sum_squared_diff)\n",
        "\n",
        "        nearest = y_train[np.argsort(dist)][:self.k]\n",
        "\n",
        "        # restituisce l'output dei k più vicini\n",
        "        return nearest\n",
        "\n",
        "    def predict_single(self, x_train, y_train, x_test_s):\n",
        "\n",
        "        # array che contiene gli output dei k sample più vicini\n",
        "        y_nearest = self.find_neighbors(x_train, y_train, x_test_s)\n",
        "\n",
        "        # restituisce la media aritmetica dei valori di y_nearest\n",
        "        return statistics.mean(y_nearest)\n",
        "\n",
        "    def predict(self, x_train, y_train, x_test):\n",
        "        y_pred = []\n",
        "        for i in range(len(x_test)):\n",
        "            y_pred.append(self.predict_single(x_train, y_train, x_test.iloc[i]))\n",
        "        return y_pred\n",
        "\n"
      ],
      "metadata": {
        "id": "97AhAslUWH6q"
      },
      "execution_count": null,
      "outputs": []
    },
    {
      "cell_type": "markdown",
      "metadata": {
        "id": "RRPMPCcYrbel"
      },
      "source": [
        "**Tuning iperparametri:**"
      ]
    },
    {
      "cell_type": "code",
      "source": [
        "l = []\n",
        "values = [5, 10, 15, 20, 55, 100, 155, 200]   # scelti casualmente\n",
        "for k in values:\n",
        "  k_nearest_neighbors = KNearestNeighbors(k)\n",
        "  y_pred = k_nearest_neighbors.predict(x_train_nn, y_train, x_val_nn)\n",
        "  rms = mean_squared_error(y_val, y_pred, squared=False)\n",
        "  l.append(rms)\n",
        "  print(\"K:\", k, \"RMSE:\", rms)\n",
        "best = min(l)\n",
        "print(\"Miglior valore di K:\", values[l.index(best)])"
      ],
      "metadata": {
        "id": "RmVLOk8IWZOj",
        "colab": {
          "base_uri": "https://localhost:8080/"
        },
        "outputId": "440919c2-6705-4039-b975-94c37d8e7b9b"
      },
      "execution_count": null,
      "outputs": [
        {
          "output_type": "stream",
          "name": "stdout",
          "text": [
            "K: 5 RMSE: 9388.873785008078\n",
            "K: 10 RMSE: 8302.175338294473\n",
            "K: 15 RMSE: 7999.396841837636\n",
            "K: 20 RMSE: 7910.149180206998\n",
            "K: 55 RMSE: 7614.239867752821\n",
            "K: 100 RMSE: 7520.359895168676\n",
            "K: 155 RMSE: 7495.083004953513\n",
            "K: 200 RMSE: 7474.514509966759\n",
            "Miglior valore di K: 200\n"
          ]
        }
      ]
    },
    {
      "cell_type": "code",
      "source": [
        "l=np.array(l)\n",
        "l=l.flatten()\n",
        "k = values\n",
        "plt.xlabel('K')\n",
        "plt.ylabel('RMSE')\n",
        "plt.plot(k, l)\n",
        "plt.show()"
      ],
      "metadata": {
        "colab": {
          "base_uri": "https://localhost:8080/",
          "height": 449
        },
        "id": "nC7p7ynWu3c-",
        "outputId": "c4439189-3a04-4e66-9b80-eab719634625"
      },
      "execution_count": null,
      "outputs": [
        {
          "output_type": "display_data",
          "data": {
            "text/plain": [
              "<Figure size 640x480 with 1 Axes>"
            ],
            "image/png": "[encoded data removed]"
          },
          "metadata": {}
        }
      ]
    },
    {
      "cell_type": "markdown",
      "source": [
        "###Test"
      ],
      "metadata": {
        "id": "rbO9Ux0qkOu7"
      }
    },
    {
      "cell_type": "code",
      "source": [
        "k = 200  # valore ottenuto tramite validation\n",
        "k_nearest_neighbors = KNearestNeighbors(k)\n",
        "y_pred = k_nearest_neighbors.predict(x_train_nn, y_train, x_test_nn)"
      ],
      "metadata": {
        "id": "cj9hpkn6kQJb"
      },
      "execution_count": null,
      "outputs": []
    },
    {
      "cell_type": "code",
      "source": [
        "rms = mean_squared_error(y_test, y_pred, squared=False)\n",
        "print(\"RMSE:\", rms)\n",
        "rms = mean_absolute_error(y_test, y_pred)\n",
        "print(\"MAE:\", rms)"
      ],
      "metadata": {
        "colab": {
          "base_uri": "https://localhost:8080/"
        },
        "id": "ACZrSnaNQwIV",
        "outputId": "50eaf38b-6403-415c-8ef5-de88fc5753b1"
      },
      "execution_count": null,
      "outputs": [
        {
          "output_type": "stream",
          "name": "stdout",
          "text": [
            "RMSE: 8315.627688899132\n",
            "MAE: 2787.68634127885\n"
          ]
        }
      ]
    },
    {
      "cell_type": "markdown",
      "metadata": {
        "id": "tb-zn6g16BsL"
      },
      "source": [
        "###Prova con sklearn"
      ]
    },
    {
      "cell_type": "code",
      "execution_count": null,
      "metadata": {
        "colab": {
          "base_uri": "https://localhost:8080/"
        },
        "outputId": "dbe2b999-b573-4328-fd5a-401f2e5b6dab",
        "id": "mPFePUkZ6BsL"
      },
      "outputs": [
        {
          "output_type": "stream",
          "name": "stdout",
          "text": [
            "RMSE Sklearn:  8315.625713757036\n"
          ]
        }
      ],
      "source": [
        "from sklearn.neighbors import KNeighborsRegressor\n",
        "scl = KNeighborsRegressor(n_neighbors=200)\n",
        "scl.fit(x_train_nn, y_train)\n",
        "y_pred_s = scl.predict(x_test_nn)\n",
        "print(\"RMSE Sklearn: \", mean_squared_error(y_test, y_pred_s, squared=False))"
      ]
    },
    {
      "cell_type": "markdown",
      "metadata": {
        "id": "c6QlRAdml_8o"
      },
      "source": [
        "#6. Classificazione con *K-Nearest Neighbors*"
      ]
    },
    {
      "cell_type": "markdown",
      "source": [
        "Simile alla regressione con KNN; ora la predizione è effettuata restituendo per ogni *sample* di test il valore dell'output **più comune** tra i k *sample* di training più vicini"
      ],
      "metadata": {
        "id": "SbpkRV5Q9-G1"
      }
    },
    {
      "cell_type": "code",
      "source": [
        "class KNearestNeighborsCl:\n",
        "    def __init__(self, k):\n",
        "        self.k = k\n",
        "\n",
        "    def find_neighbors(self, x_train, y_train, x_test_s):\n",
        "        x_train = np.array(x_train)\n",
        "        x_test_s = np.array(x_test_s)\n",
        "        y_train = np.array(y_train)\n",
        "\n",
        "        # calcola la distanza tra il sample di test e tutte le righe del dataset\n",
        "        diff = x_train - x_test_s\n",
        "        squared_diff = diff ** 2\n",
        "        sum_squared_diff = squared_diff.sum(axis=1)\n",
        "        dist = np.sqrt(sum_squared_diff)\n",
        "\n",
        "        nearest = y_train[np.argsort(dist)][:self.k]\n",
        "\n",
        "        # restituisce l'output dei k più vicini\n",
        "        return nearest\n",
        "\n",
        "    def predict_single(self, x_train, y_train, x_test_s):\n",
        "\n",
        "        # array che contiene gli output dei k sample più vicini\n",
        "        y_nearest = self.find_neighbors(x_train, y_train, x_test_s)\n",
        "\n",
        "        # calcola il valore più comune tra i valori in y_nearest\n",
        "        if np.count_nonzero(y_nearest == 1) > np.count_nonzero(y_nearest == 0):\n",
        "            return 1\n",
        "        else:\n",
        "            return 0\n",
        "\n",
        "    def predict(self, x_train, y_train, x_test):\n",
        "        y_pred = []\n",
        "        for i in range(len(x_test)):\n",
        "            y_pred.append(self.predict_single(x_train, y_train, x_test.iloc[i]))\n",
        "        return y_pred\n"
      ],
      "metadata": {
        "id": "aPA_DonVZOMv"
      },
      "execution_count": null,
      "outputs": []
    },
    {
      "cell_type": "markdown",
      "metadata": {
        "id": "hRx4r9mQrVwg"
      },
      "source": [
        "###Test"
      ]
    },
    {
      "cell_type": "code",
      "source": [
        "k = 200   # è il valore dell'iperparametro scelto nella fase di validation\n",
        "k_nearest_neighbors_cl = KNearestNeighborsCl(k)\n",
        "y_pred_knnclass = k_nearest_neighbors_cl.predict(x_train_nn, y_train_cl, x_test_nn)"
      ],
      "metadata": {
        "id": "AMOou4aZcUDv"
      },
      "execution_count": null,
      "outputs": []
    },
    {
      "cell_type": "code",
      "source": [
        "print(\"Accuracy: \", accuracy_score(y_test_cl, y_pred_knnclass))\n",
        "print(\"F1 score:\", f1_score(y_test_cl, y_pred_knnclass))"
      ],
      "metadata": {
        "colab": {
          "base_uri": "https://localhost:8080/"
        },
        "id": "vfzXJWh9DbIW",
        "outputId": "64897e9e-13c0-4cf9-fa95-e9167e1244a5"
      },
      "execution_count": null,
      "outputs": [
        {
          "output_type": "stream",
          "name": "stdout",
          "text": [
            "Accuracy:  0.6391726573338378\n",
            "F1 score: 0.66424128623401\n"
          ]
        }
      ]
    },
    {
      "cell_type": "markdown",
      "metadata": {
        "id": "5Z_VBzqCtY4u"
      },
      "source": [
        "###Prova con sklearn"
      ]
    },
    {
      "cell_type": "code",
      "execution_count": null,
      "metadata": {
        "id": "RO7y5RhitblG",
        "colab": {
          "base_uri": "https://localhost:8080/"
        },
        "outputId": "ad973c8d-e49d-4771-b904-192d9f78b1f0"
      },
      "outputs": [
        {
          "output_type": "stream",
          "name": "stdout",
          "text": [
            "Accuracy Sklearn:  0.6391726573338378\n"
          ]
        }
      ],
      "source": [
        "from sklearn.neighbors import KNeighborsClassifier\n",
        "scl = KNeighborsClassifier(n_neighbors=200)\n",
        "scl.fit(x_train_nn, y_train_cl)\n",
        "y_pred_scl = scl.predict(x_test_nn)\n",
        "print(\"Accuracy Sklearn: \", accuracy_score(y_test_cl, y_pred_scl))"
      ]
    },
    {
      "cell_type": "markdown",
      "metadata": {
        "id": "qT20-QVfb1j_"
      },
      "source": [
        "#7. Regressione con Reti Neurali\n"
      ]
    },
    {
      "cell_type": "markdown",
      "source": [
        "Inizializzazione dei parametri in maniera casuale secondo una distribuzione Gaussiana standard e bias a valore zero"
      ],
      "metadata": {
        "id": "IjJFhmAs6qrG"
      }
    },
    {
      "cell_type": "code",
      "source": [
        "def initialize_params(layers_size):\n",
        "  np.random.seed(0) # per la riproducibilità\n",
        "  params = list()\n",
        "  for i in range(len(layers_size) - 1):\n",
        "    W = np.random.randn(layers_size[i+1], layers_size[i]) # pesi\n",
        "    b = np.zeros((layers_size[i+1], 1)) # bias\n",
        "    params.append(W)\n",
        "    params.append(b)\n",
        "  return params"
      ],
      "metadata": {
        "id": "Cd69o3lv6qE0"
      },
      "execution_count": null,
      "outputs": []
    },
    {
      "cell_type": "markdown",
      "source": [
        "Definiamo la funzione di attivazione"
      ],
      "metadata": {
        "id": "23iYe2779RYj"
      }
    },
    {
      "cell_type": "code",
      "source": [
        "activation = np.tanh"
      ],
      "metadata": {
        "id": "-n_8gKdJ9Tvq"
      },
      "execution_count": null,
      "outputs": []
    },
    {
      "cell_type": "code",
      "source": [
        "def forward(x, params):\n",
        "  num_layers = int(len(params)/2 + 1)\n",
        "  layer = x.T\n",
        "  weights = params[0::2]\n",
        "  biases = params[1::2]\n",
        "\n",
        "  for i in range(num_layers):\n",
        "    print(weights[i].shape, layer.shape)\n",
        "    layer = np.dot(weights[i], layer) + biases\n",
        "    if (i < num_layers - 2):\n",
        "      layer = activation(layer)\n",
        "\n",
        "  return layer.T"
      ],
      "metadata": {
        "id": "qoVbvfTL734V"
      },
      "execution_count": null,
      "outputs": []
    },
    {
      "cell_type": "markdown",
      "source": [
        "Definiamo la funzione di Loss:\n",
        "$$\n",
        "\\mathcal{L}(\\mathbf{x}, \\mathbf{y}, \\boldsymbol{\\theta}) = \\frac{1}{m} \\sum_{i=1}^m (y_{true} - y(x_i, \\boldsymbol{\\theta}))^2\n",
        "$$"
      ],
      "metadata": {
        "id": "Dd7Y17s2-GkQ"
      }
    },
    {
      "cell_type": "code",
      "source": [
        "def loss(x, y, params):\n",
        "  error = forward(x, params) - y\n",
        "  return np.mean(error * error)"
      ],
      "metadata": {
        "id": "f-fGgay49__n"
      },
      "execution_count": null,
      "outputs": []
    },
    {
      "cell_type": "markdown",
      "source": [
        "Ora effettuiamo il *training* della rete neurale"
      ],
      "metadata": {
        "id": "zSBtz6gu-m_a"
      }
    },
    {
      "cell_type": "code",
      "source": [
        "import jax\n",
        "from tqdm.notebook import tqdm\n",
        "\n",
        "def GD(x, y, learning_rate, epochs, layers_size):\n",
        "  loss_jit = jax.jit(loss)\n",
        "  grad = jax.jit(jax.grad(loss, argnums = 2))\n",
        "\n",
        "  params = initialize_params(layers_size)\n",
        "\n",
        "  history_train = list()\n",
        "  history_train.append(loss(x_train, y_train, params))\n",
        "\n",
        "  for epoch in tqdm(range(epochs)):\n",
        "      grads = grad(x_train, y_train, params)\n",
        "\n",
        "      # aggiorno i parametri di ogni strato usando i gradienti appena calcolati\n",
        "      for i in range(len(params)):\n",
        "          params[i] -= learning_rate * grads[i]\n",
        "      history_train.append(loss(x_train, y_train, params))\n",
        "\n",
        "  return params"
      ],
      "metadata": {
        "id": "yKcjTE5B_6W9"
      },
      "execution_count": null,
      "outputs": []
    },
    {
      "cell_type": "markdown",
      "source": [
        "Testiamo la rete neurale"
      ],
      "metadata": {
        "id": "lYX5VJo2FUt-"
      }
    },
    {
      "cell_type": "code",
      "source": [
        "learning_rate = 0.1\n",
        "epochs = 100\n",
        "layers_size = [x_train.shape[1], 5, 5, 1]\n",
        "\n",
        "params = GD(x_train_std, y_train, learning_rate, epochs, layers_size)\n",
        "y_pred = forward(x_val_std, params)\n",
        "\n",
        "rms = mean_squared_error(y_val, y_pred, squared=False)\n",
        "print(\"RMSE:\", rms)"
      ],
      "metadata": {
        "colab": {
          "base_uri": "https://localhost:8080/",
          "height": 462
        },
        "id": "ecKVxBA9FUXE",
        "outputId": "d0e6c202-0f0e-492a-cc41-2ef1cbc9667c"
      },
      "execution_count": null,
      "outputs": [
        {
          "output_type": "stream",
          "name": "stdout",
          "text": [
            "(5, 59) (59, 25372)\n"
          ]
        },
        {
          "output_type": "stream",
          "name": "stderr",
          "text": [
            "<ipython-input-23-69b74acbda58>:9: VisibleDeprecationWarning: Creating an ndarray from ragged nested sequences (which is a list-or-tuple of lists-or-tuples-or ndarrays with different lengths or shapes) is deprecated. If you meant to do this, you must specify 'dtype=object' when creating the ndarray.\n",
            "  layer = np.dot(weights[i], layer) + biases\n"
          ]
        },
        {
          "output_type": "error",
          "ename": "ValueError",
          "evalue": "ignored",
          "traceback": [
            "\u001b[0;31m---------------------------------------------------------------------------\u001b[0m",
            "\u001b[0;31mValueError\u001b[0m                                Traceback (most recent call last)",
            "\u001b[0;32m<ipython-input-25-3b8550119892>\u001b[0m in \u001b[0;36m<cell line: 5>\u001b[0;34m()\u001b[0m\n\u001b[1;32m      3\u001b[0m \u001b[0mlayers_size\u001b[0m \u001b[0;34m=\u001b[0m \u001b[0;34m[\u001b[0m\u001b[0mx_train\u001b[0m\u001b[0;34m.\u001b[0m\u001b[0mshape\u001b[0m\u001b[0;34m[\u001b[0m\u001b[0;36m1\u001b[0m\u001b[0;34m]\u001b[0m\u001b[0;34m,\u001b[0m \u001b[0;36m5\u001b[0m\u001b[0;34m,\u001b[0m \u001b[0;36m5\u001b[0m\u001b[0;34m,\u001b[0m \u001b[0;36m1\u001b[0m\u001b[0;34m]\u001b[0m\u001b[0;34m\u001b[0m\u001b[0;34m\u001b[0m\u001b[0m\n\u001b[1;32m      4\u001b[0m \u001b[0;34m\u001b[0m\u001b[0m\n\u001b[0;32m----> 5\u001b[0;31m \u001b[0mparams\u001b[0m \u001b[0;34m=\u001b[0m \u001b[0mGD\u001b[0m\u001b[0;34m(\u001b[0m\u001b[0mx_train_std\u001b[0m\u001b[0;34m,\u001b[0m \u001b[0my_train\u001b[0m\u001b[0;34m,\u001b[0m \u001b[0mlearning_rate\u001b[0m\u001b[0;34m,\u001b[0m \u001b[0mepochs\u001b[0m\u001b[0;34m,\u001b[0m \u001b[0mlayers_size\u001b[0m\u001b[0;34m)\u001b[0m\u001b[0;34m\u001b[0m\u001b[0;34m\u001b[0m\u001b[0m\n\u001b[0m\u001b[1;32m      6\u001b[0m \u001b[0my_pred\u001b[0m \u001b[0;34m=\u001b[0m \u001b[0mforward\u001b[0m\u001b[0;34m(\u001b[0m\u001b[0mx_val_std\u001b[0m\u001b[0;34m,\u001b[0m \u001b[0mparams\u001b[0m\u001b[0;34m)\u001b[0m\u001b[0;34m\u001b[0m\u001b[0;34m\u001b[0m\u001b[0m\n\u001b[1;32m      7\u001b[0m \u001b[0;34m\u001b[0m\u001b[0m\n",
            "\u001b[0;32m<ipython-input-24-e48b579c0b21>\u001b[0m in \u001b[0;36mGD\u001b[0;34m(x, y, learning_rate, epochs, layers_size)\u001b[0m\n\u001b[1;32m      9\u001b[0m \u001b[0;34m\u001b[0m\u001b[0m\n\u001b[1;32m     10\u001b[0m   \u001b[0mhistory_train\u001b[0m \u001b[0;34m=\u001b[0m \u001b[0mlist\u001b[0m\u001b[0;34m(\u001b[0m\u001b[0;34m)\u001b[0m\u001b[0;34m\u001b[0m\u001b[0;34m\u001b[0m\u001b[0m\n\u001b[0;32m---> 11\u001b[0;31m   \u001b[0mhistory_train\u001b[0m\u001b[0;34m.\u001b[0m\u001b[0mappend\u001b[0m\u001b[0;34m(\u001b[0m\u001b[0mloss\u001b[0m\u001b[0;34m(\u001b[0m\u001b[0mx_train\u001b[0m\u001b[0;34m,\u001b[0m \u001b[0my_train\u001b[0m\u001b[0;34m,\u001b[0m \u001b[0mparams\u001b[0m\u001b[0;34m)\u001b[0m\u001b[0;34m)\u001b[0m\u001b[0;34m\u001b[0m\u001b[0;34m\u001b[0m\u001b[0m\n\u001b[0m\u001b[1;32m     12\u001b[0m \u001b[0;34m\u001b[0m\u001b[0m\n\u001b[1;32m     13\u001b[0m   \u001b[0;32mfor\u001b[0m \u001b[0mepoch\u001b[0m \u001b[0;32min\u001b[0m \u001b[0mtqdm\u001b[0m\u001b[0;34m(\u001b[0m\u001b[0mrange\u001b[0m\u001b[0;34m(\u001b[0m\u001b[0mepochs\u001b[0m\u001b[0;34m)\u001b[0m\u001b[0;34m)\u001b[0m\u001b[0;34m:\u001b[0m\u001b[0;34m\u001b[0m\u001b[0;34m\u001b[0m\u001b[0m\n",
            "\u001b[0;32m<ipython-input-11-1b4bcec79785>\u001b[0m in \u001b[0;36mloss\u001b[0;34m(x, y, params)\u001b[0m\n\u001b[1;32m      1\u001b[0m \u001b[0;32mdef\u001b[0m \u001b[0mloss\u001b[0m\u001b[0;34m(\u001b[0m\u001b[0mx\u001b[0m\u001b[0;34m,\u001b[0m \u001b[0my\u001b[0m\u001b[0;34m,\u001b[0m \u001b[0mparams\u001b[0m\u001b[0;34m)\u001b[0m\u001b[0;34m:\u001b[0m\u001b[0;34m\u001b[0m\u001b[0;34m\u001b[0m\u001b[0m\n\u001b[0;32m----> 2\u001b[0;31m   \u001b[0merror\u001b[0m \u001b[0;34m=\u001b[0m \u001b[0mforward\u001b[0m\u001b[0;34m(\u001b[0m\u001b[0mx\u001b[0m\u001b[0;34m,\u001b[0m \u001b[0mparams\u001b[0m\u001b[0;34m)\u001b[0m \u001b[0;34m-\u001b[0m \u001b[0my\u001b[0m\u001b[0;34m\u001b[0m\u001b[0;34m\u001b[0m\u001b[0m\n\u001b[0m\u001b[1;32m      3\u001b[0m   \u001b[0;32mreturn\u001b[0m \u001b[0mnp\u001b[0m\u001b[0;34m.\u001b[0m\u001b[0mmean\u001b[0m\u001b[0;34m(\u001b[0m\u001b[0merror\u001b[0m \u001b[0;34m*\u001b[0m \u001b[0merror\u001b[0m\u001b[0;34m)\u001b[0m\u001b[0;34m\u001b[0m\u001b[0;34m\u001b[0m\u001b[0m\n",
            "\u001b[0;32m<ipython-input-23-69b74acbda58>\u001b[0m in \u001b[0;36mforward\u001b[0;34m(x, params)\u001b[0m\n\u001b[1;32m      7\u001b[0m   \u001b[0;32mfor\u001b[0m \u001b[0mi\u001b[0m \u001b[0;32min\u001b[0m \u001b[0mrange\u001b[0m\u001b[0;34m(\u001b[0m\u001b[0mnum_layers\u001b[0m\u001b[0;34m)\u001b[0m\u001b[0;34m:\u001b[0m\u001b[0;34m\u001b[0m\u001b[0;34m\u001b[0m\u001b[0m\n\u001b[1;32m      8\u001b[0m     \u001b[0mprint\u001b[0m\u001b[0;34m(\u001b[0m\u001b[0mweights\u001b[0m\u001b[0;34m[\u001b[0m\u001b[0mi\u001b[0m\u001b[0;34m]\u001b[0m\u001b[0;34m.\u001b[0m\u001b[0mshape\u001b[0m\u001b[0;34m,\u001b[0m \u001b[0mlayer\u001b[0m\u001b[0;34m.\u001b[0m\u001b[0mshape\u001b[0m\u001b[0;34m)\u001b[0m\u001b[0;34m\u001b[0m\u001b[0;34m\u001b[0m\u001b[0m\n\u001b[0;32m----> 9\u001b[0;31m     \u001b[0mlayer\u001b[0m \u001b[0;34m=\u001b[0m \u001b[0mnp\u001b[0m\u001b[0;34m.\u001b[0m\u001b[0mdot\u001b[0m\u001b[0;34m(\u001b[0m\u001b[0mweights\u001b[0m\u001b[0;34m[\u001b[0m\u001b[0mi\u001b[0m\u001b[0;34m]\u001b[0m\u001b[0;34m,\u001b[0m \u001b[0mlayer\u001b[0m\u001b[0;34m)\u001b[0m \u001b[0;34m+\u001b[0m \u001b[0mbiases\u001b[0m\u001b[0;34m\u001b[0m\u001b[0;34m\u001b[0m\u001b[0m\n\u001b[0m\u001b[1;32m     10\u001b[0m     \u001b[0;32mif\u001b[0m \u001b[0;34m(\u001b[0m\u001b[0mi\u001b[0m \u001b[0;34m<\u001b[0m \u001b[0mnum_layers\u001b[0m \u001b[0;34m-\u001b[0m \u001b[0;36m2\u001b[0m\u001b[0;34m)\u001b[0m\u001b[0;34m:\u001b[0m\u001b[0;34m\u001b[0m\u001b[0;34m\u001b[0m\u001b[0m\n\u001b[1;32m     11\u001b[0m       \u001b[0mlayer\u001b[0m \u001b[0;34m=\u001b[0m \u001b[0mactivation\u001b[0m\u001b[0;34m(\u001b[0m\u001b[0mlayer\u001b[0m\u001b[0;34m)\u001b[0m\u001b[0;34m\u001b[0m\u001b[0;34m\u001b[0m\u001b[0m\n",
            "\u001b[0;31mValueError\u001b[0m: operands could not be broadcast together with shapes (5,25372) (3,) "
          ]
        }
      ]
    },
    {
      "cell_type": "markdown",
      "source": [
        "**Tuning iperparametri:**"
      ],
      "metadata": {
        "id": "CcYlrhJdnXKz"
      }
    },
    {
      "cell_type": "code",
      "source": [
        "l = []\n",
        "for n in range(2,11):\n",
        "  network = NeuralNetwork(n, 0.00000001, 100)\n",
        "  network.train_network(x_train_std, y_train)\n",
        "  y_pred = network.forward_propagation(x_val_std)\n",
        "  rms = mean_squared_error(y_val, y_pred, squared=False)\n",
        "  print(\"Hidden nodes:\", n, \"RMSE:\", rms)\n",
        "  l.append(rms)\n",
        "best = min(l)\n",
        "print(\"Valore migliore di n_hidden_nodes:\", l.index(best)+2)"
      ],
      "metadata": {
        "colab": {
          "base_uri": "https://localhost:8080/"
        },
        "id": "nrsj1IdVnaAz",
        "outputId": "a9247491-c62d-4999-efb8-67cd31f3b03b"
      },
      "execution_count": null,
      "outputs": [
        {
          "output_type": "stream",
          "name": "stdout",
          "text": [
            "Hidden nodes: 2 RMSE: 7712.366185379484\n",
            "Hidden nodes: 3 RMSE: 7690.423762961319\n",
            "Hidden nodes: 4 RMSE: 7581.283587812102\n",
            "Hidden nodes: 5 RMSE: 7706.209584537407\n",
            "Hidden nodes: 6 RMSE: 7564.605017745135\n",
            "Hidden nodes: 7 RMSE: 7536.673960211623\n",
            "Hidden nodes: 8 RMSE: 7668.169082272352\n",
            "Hidden nodes: 9 RMSE: 7545.296991680074\n",
            "Hidden nodes: 10 RMSE: 7574.4287843509\n",
            "Valore migliore di n_hidden_nodes: 7\n"
          ]
        }
      ]
    },
    {
      "cell_type": "code",
      "source": [
        "l=np.array(l)\n",
        "l=l.flatten()\n",
        "k = np.array([k for k in range(2,11)])\n",
        "plt.xlabel('n_hidden_nodes')\n",
        "plt.ylabel('RMSE')\n",
        "plt.plot(k, l)\n",
        "plt.show()"
      ],
      "metadata": {
        "colab": {
          "base_uri": "https://localhost:8080/",
          "height": 450
        },
        "id": "opJBI9y8sB-j",
        "outputId": "ebe0ebf9-0465-4dd1-fe66-83b09df71d97"
      },
      "execution_count": null,
      "outputs": [
        {
          "output_type": "display_data",
          "data": {
            "text/plain": [
              "<Figure size 640x480 with 1 Axes>"
            ],
            "image/png": "[encoded data removed]"
          },
          "metadata": {}
        }
      ]
    },
    {
      "cell_type": "markdown",
      "metadata": {
        "id": "dLdneydRdXAj"
      },
      "source": [
        "###Test"
      ]
    },
    {
      "cell_type": "code",
      "source": [
        "n_hidden_nodes = 7  # iperparametro scelto tramite validation\n",
        "network = NeuralNetwork(n_hidden_nodes, 0.000000001, 100)\n",
        "\n",
        "network.train_network(x_train_std, y_train)\n",
        "\n",
        "y_pred_neuralnet = network.forward_propagation(x_test_std)"
      ],
      "metadata": {
        "id": "uW145KBCi0Zj"
      },
      "execution_count": null,
      "outputs": []
    },
    {
      "cell_type": "code",
      "source": [
        "rms = mean_squared_error(y_test, y_pred_neuralnet, squared=False)\n",
        "print(rms)\n",
        "mae = mean_absolute_error(y_test, y_pred_neuralnet)\n",
        "print(mae)"
      ],
      "metadata": {
        "colab": {
          "base_uri": "https://localhost:8080/"
        },
        "id": "CAXc_QyqOCqN",
        "outputId": "b829cea8-267e-4f35-9955-8c6be355c0a7"
      },
      "execution_count": null,
      "outputs": [
        {
          "output_type": "stream",
          "name": "stdout",
          "text": [
            "8282.908374076682\n",
            "2987.5866470078327\n"
          ]
        }
      ]
    },
    {
      "cell_type": "markdown",
      "source": [
        "#Considerazioni sulle prestazioni dei modelli implementati"
      ],
      "metadata": {
        "id": "HnzegmxbaN25"
      }
    },
    {
      "cell_type": "markdown",
      "source": [
        "##Modelli di classificazione"
      ],
      "metadata": {
        "id": "cAm-lVpLaSBk"
      }
    },
    {
      "cell_type": "markdown",
      "source": [
        "### Risultati *accuracy* dei modelli di classificazione realizzati:<br>\n",
        "**Decision Tree:** 62%<br>\n",
        "**Regressione lineare**: 58%<br>\n",
        "**Regressione logistica**: 64%<br>\n",
        "**KNN**: 63%<br>\n",
        "<br><br>\n",
        "### Risultati *f1-score*:\n",
        "**Decision Tree:** 66.76%<br>\n",
        "**Regressione lineare**: 61.66%<br>\n",
        "**Regressione logistica**: 67%<br>\n",
        "**KNN**: 66.42%<br>\n",
        "<br><br>\n",
        "Tra quelli implementati, il modello di **classificazione con regressione lineare** risulta il **peggiore**. Questo è dovuto principalmente a due problemi di tale modello, causati dal fatto che è utilizzata una soglia rigida:\n",
        "\n",
        "*   l'ipotesi $h_{w}$ non è differenziabile\n",
        "*   la stessa ipotesi assume valore *1* o *0* con confidenza totale, anche se gli esempi sono molto vicini al confine.<br><br>\n",
        "\n",
        "Nella **regressione logistica** la funzione di soglia è *ammorbidita* utilizzando la funzione logistica. Rispetto alla precedente, la regressione logistica si comporta in modo più **prevedibile** e **affidabile**, e ciò è riscontrato da un valore maggiore nell'accuracy e nell'f1-score (che risultano i più alti tra i modelli di classificazione realizzati).\n",
        "<br><br>\n",
        "I risultati di accuratezza della classificazione con **K-Nearest Neighbors** sono simili a quelli della classificazione con regressione logistica, ma rispetto a quest'ultima KNN presenta lo svantaggio di richiedere un tempo di esecuzione molto maggiore. Infatti il costo computazionale di questo algoritmo è molto alto, dal momento che ogni sample di test deve essere confrontato con ogni sample del training set.<br>\n",
        "Questo modello ha però come vantaggio il fatto di non essere parametrico, quindi è adatto a dataset di grandi dimensioni e non effettua assunzioni specifiche sulla forma dei dati.\n",
        "<br><br>\n",
        "L'**albero di decisione**, altro modello non parametrico, ha un *f1-score* in linea con quello della KNN e della classificazione con regressione logistica, mentre l'*accuracy* è leggermente inferiore, probabilmente a causa della ricerca *greedy* che testa sempre prima l'attributo avente *importance* maggiore ed effettua lo *splitting* sulla base di tale attributo. Poiché la valutazione di nodi che non sono rilevanti aumentano il tempo di esecuzione e il rischio di **overfitting**, è stata effettuata la *potatura* dell'albero, in questo caso stabilendo una **profondità massima** scelta nella fase di *validation*, con una conseguente velocizzazione dell'algoritmo e un aumento dell'accuratezza.\n",
        "\n",
        "\n",
        "\n",
        "\n",
        "\n",
        "\n"
      ],
      "metadata": {
        "id": "v3ethNFbkQEw"
      }
    },
    {
      "cell_type": "markdown",
      "source": [
        "##Modelli di regressione"
      ],
      "metadata": {
        "id": "xdqpWy6XBS2_"
      }
    },
    {
      "cell_type": "markdown",
      "source": [
        "###Risultati RMSE dei modelli di regressione implementati:\n",
        "**Regressione lineare senza regolarizzazione**: 8276.90<br>\n",
        "**Lasso Regression**: 8276.89<br>\n",
        "**Ridge Regression**: 8276.90<br>\n",
        "**Elastic Net Regression**: 8276.89<br>\n",
        "**K-Nearest Neighbors**: 8303.28<br>\n",
        "**Regressione con Rete Neurale**: 8282.90<br>\n",
        "<br><br>\n",
        "###Risultati MAE:\n",
        "**Regressione lineare senza regolarizzazione**: 2984.98<br>\n",
        "**Lasso Regression**: 2984.97<br>\n",
        "**Ridge Regression**: 2984.99<br>\n",
        "**Elastic Net Regression**: 2984.99<br>\n",
        "**K-Nearest Neighbors**: 2785.67<br>\n",
        "**Regressione con Rete Neurale**: 2987.58<br>\n",
        "<br><br>\n",
        "I vari modelli hanno **prestazioni simili**, e la valutazione dei risultati delle prestazioni differisce molto in base alla **metrica utilizzata**. Ciò è dovuto al fatto che il **Root Mean Squared Error**, rispetto al **Mean Absolute Error**, tende a penalizzare gli errori grandi, dal momento che questi sono inizialmente elevati al quadrato; inoltre è più sensibile ai valori anormali.\n",
        "<br><br>\n",
        "Il modello di **Regressione lineare** ha delle buone prestazioni rispetto agli altri modelli, e soprattutto presenta una maggiore efficienza computazionale: il tempo di esecuzione dell'algoritmo **è molto inferiore** rispetto a quelli degli altri modelli implementati. Il tentativo di migliorare le prestazioni effettuando le regolarizzazioni L1, L2, ed Elastic Net, con lo scopo di ridurre l'*overfitting*, però, non ha ottenuto i risultati sperati, dal momento che le prestazioni sono rimaste pressoché le stesse.\n",
        "<br><br>\n",
        "Il modello di regressione basato su **K-Nearest Neighbors**, come visto con il suo analogo per la classificazione, richiede un **tempo di computazione molto elevato** rispetto agli altri algoritmi, essendo questo lineare rispetto al numero di *sample* del training set per la predizione di un singolo *sample* di test (O(N)), problema che può essere risolto tramite una velocizzazione dei calcoli con l'utilizzo di strutture dati ausiliarie come alberi e tabelle hash. D'altra parte, le performance di questo modello per il dataset dato risultano buone, essendo il MAE **il più basso tra quelli testati**. Nonostante questo, il modello potrebbe risentire del problema della *maledizione della dimensionalità*, dato dal fatto che **spazi di grandi dimensioni** (58 in questo caso, ovvero il numero delle feature) potrebbero fare in modo che due sample considerati vicini dall'algoritmo non siano in realtà così vicini spazialmente.\n",
        "<br><br>\n",
        "La regressione con **Rete Neurale**, che è il modello più utilizzato attualmente in numerose applicazioni, ha nell'implementazione soprastante performance simili a quelle degli altri modelli implementati. Il problema principale è che **non sfrutta le potenzialità delle reti *deep***, essendo presente **un unico *hidden layer***. Infatti il vantaggio principale delle reti neurali rispetto ad altri metodi come la regressione lineare, che ha un cammino computazionale dall'input all'output molto breve, è il fatto che il **cammino computazionale è più lungo** e tutte le variabili in input interagiscono in modi complessi, dunque le prestazioni tendono a migliorare rendendo la rete più profonda, cioè aggiungendo nuovi strati nascosti, questo perché in questo modo il modello ha un'espressività sufficiente a cogliere la complessità dei dati del mondo reale.\n"
      ],
      "metadata": {
        "id": "hTEcOTHJBXeX"
      }
    }
  ],
  "metadata": {
    "colab": {
      "provenance": [],
      "toc_visible": true
    },
    "kernelspec": {
      "display_name": "Python 3",
      "name": "python3"
    },
    "language_info": {
      "name": "python"
    }
  },
  "nbformat": 4,
  "nbformat_minor": 0
}